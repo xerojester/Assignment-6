{
  "nbformat": 4,
  "nbformat_minor": 0,
  "metadata": {
    "colab": {
      "name": "Exercise_2_POS_and_NER_Tagging.ipynb",
      "provenance": [],
      "collapsed_sections": [],
      "include_colab_link": true
    },
    "kernelspec": {
      "display_name": "Python 3",
      "language": "python",
      "name": "python3"
    },
    "language_info": {
      "codemirror_mode": {
        "name": "ipython",
        "version": 3
      },
      "file_extension": ".py",
      "mimetype": "text/x-python",
      "name": "python",
      "nbconvert_exporter": "python",
      "pygments_lexer": "ipython3",
      "version": "3.8.3"
    }
  },
  "cells": [
    {
      "cell_type": "markdown",
      "metadata": {
        "id": "view-in-github",
        "colab_type": "text"
      },
      "source": [
        "<a href=\"https://colab.research.google.com/github/xerojester/Assignment-6/blob/main/Exercise_2_POS_and_NER_Tagging.ipynb\" target=\"_parent\"><img src=\"https://colab.research.google.com/assets/colab-badge.svg\" alt=\"Open In Colab\"/></a>"
      ]
    },
    {
      "cell_type": "markdown",
      "metadata": {
        "id": "0CLuFfRqolP1"
      },
      "source": [
        "# Exercise 2: POS and NER Tagging\n",
        "\n",
        "In this notebook, we will apply our understanding of Parts of Speech Tagging and Named Entity Recognition using pretrained models from ``spacy``. The notebook is based on content discussed during week 4.\n",
        "\n",
        "__Fill in missing content ``<YOUR CODE HERE>`` with correct answers__"
      ]
    },
    {
      "cell_type": "markdown",
      "metadata": {
        "id": "DrCTLtVhozyW"
      },
      "source": [
        "## Parts of Speech Tagging"
      ]
    },
    {
      "cell_type": "markdown",
      "metadata": {
        "id": "i-8gSUBvo4pl"
      },
      "source": [
        "### Import Libraries"
      ]
    },
    {
      "cell_type": "code",
      "metadata": {
        "id": "j6klTFJDofg1"
      },
      "source": [
        "import re\n",
        "import pandas as pd\n",
        "import spacy\n",
        "from spacy import displacy\n",
        "from collections import Counter"
      ],
      "execution_count": 1,
      "outputs": []
    },
    {
      "cell_type": "markdown",
      "metadata": {
        "id": "Cp1ouPe3pBYL"
      },
      "source": [
        "### Sample Sentence"
      ]
    },
    {
      "cell_type": "code",
      "metadata": {
        "id": "NU2kzNVCpDN6"
      },
      "source": [
        "# Sample sentence from: Vladimir Nabokov, “The Gift.” \n",
        "sentence = \"As he crossed toward the pharmacy at the corner he involuntarily turned his head because of a burst of light that had ricocheted from his temple, and saw, with that quick smile with which we greet a rainbow or a rose, a blindingly white parallelogram of sky being unloaded from the van—a dresser with mirrors across which, as across a cinema screen, passed a flawlessly clear reflection of boughs sliding and swaying not arboreally, but with a human vacillation, produced by the nature of those who were carrying this sky, these boughs, this gliding façade.\""
      ],
      "execution_count": 2,
      "outputs": []
    },
    {
      "cell_type": "markdown",
      "metadata": {
        "id": "y4EC8dlFpGV-"
      },
      "source": [
        "### Load Spacy Model"
      ]
    },
    {
      "cell_type": "code",
      "metadata": {
        "id": "bksoZVqzpHlc"
      },
      "source": [
        "nlp = spacy.load('en')"
      ],
      "execution_count": 3,
      "outputs": []
    },
    {
      "cell_type": "markdown",
      "metadata": {
        "id": "SM77GMePpLP0"
      },
      "source": [
        "### Question 1: Get POS Tags (1 point)\n",
        "\n",
        "1. Use the `nlp` object above to get to the POS tags similar to Tutorial 2"
      ]
    },
    {
      "cell_type": "code",
      "metadata": {
        "id": "AV91MbZXpM7a",
        "colab": {
          "base_uri": "https://localhost:8080/"
        },
        "outputId": "1c761faf-258d-4413-ae9d-f0a666372e1a"
      },
      "source": [
        "sentence_nlp = nlp(sentence)\r\n",
        "spacy_pos_tagged = [(word, word.tag_, word.pos_) for word in sentence_nlp]\r\n",
        "spacy_pos_tagged"
      ],
      "execution_count": 4,
      "outputs": [
        {
          "output_type": "execute_result",
          "data": {
            "text/plain": [
              "[(As, 'IN', 'SCONJ'),\n",
              " (he, 'PRP', 'PRON'),\n",
              " (crossed, 'VBD', 'VERB'),\n",
              " (toward, 'IN', 'ADP'),\n",
              " (the, 'DT', 'DET'),\n",
              " (pharmacy, 'NN', 'NOUN'),\n",
              " (at, 'IN', 'ADP'),\n",
              " (the, 'DT', 'DET'),\n",
              " (corner, 'NN', 'NOUN'),\n",
              " (he, 'PRP', 'PRON'),\n",
              " (involuntarily, 'RB', 'ADV'),\n",
              " (turned, 'VBD', 'VERB'),\n",
              " (his, 'PRP$', 'DET'),\n",
              " (head, 'NN', 'NOUN'),\n",
              " (because, 'IN', 'SCONJ'),\n",
              " (of, 'IN', 'ADP'),\n",
              " (a, 'DT', 'DET'),\n",
              " (burst, 'NN', 'NOUN'),\n",
              " (of, 'IN', 'ADP'),\n",
              " (light, 'NN', 'NOUN'),\n",
              " (that, 'WDT', 'DET'),\n",
              " (had, 'VBD', 'AUX'),\n",
              " (ricocheted, 'VBN', 'VERB'),\n",
              " (from, 'IN', 'ADP'),\n",
              " (his, 'PRP$', 'DET'),\n",
              " (temple, 'NN', 'NOUN'),\n",
              " (,, ',', 'PUNCT'),\n",
              " (and, 'CC', 'CCONJ'),\n",
              " (saw, 'VBD', 'VERB'),\n",
              " (,, ',', 'PUNCT'),\n",
              " (with, 'IN', 'ADP'),\n",
              " (that, 'DT', 'DET'),\n",
              " (quick, 'JJ', 'ADJ'),\n",
              " (smile, 'NN', 'NOUN'),\n",
              " (with, 'IN', 'ADP'),\n",
              " (which, 'WDT', 'DET'),\n",
              " (we, 'PRP', 'PRON'),\n",
              " (greet, 'VBP', 'VERB'),\n",
              " (a, 'DT', 'DET'),\n",
              " (rainbow, 'NN', 'NOUN'),\n",
              " (or, 'CC', 'CCONJ'),\n",
              " (a, 'DT', 'DET'),\n",
              " (rose, 'NN', 'NOUN'),\n",
              " (,, ',', 'PUNCT'),\n",
              " (a, 'DT', 'DET'),\n",
              " (blindingly, 'RB', 'ADV'),\n",
              " (white, 'JJ', 'ADJ'),\n",
              " (parallelogram, 'NN', 'NOUN'),\n",
              " (of, 'IN', 'ADP'),\n",
              " (sky, 'NN', 'NOUN'),\n",
              " (being, 'VBG', 'AUX'),\n",
              " (unloaded, 'VBN', 'VERB'),\n",
              " (from, 'IN', 'ADP'),\n",
              " (the, 'DT', 'DET'),\n",
              " (van, 'NNP', 'PROPN'),\n",
              " (—, ':', 'PUNCT'),\n",
              " (a, 'DT', 'DET'),\n",
              " (dresser, 'NN', 'NOUN'),\n",
              " (with, 'IN', 'ADP'),\n",
              " (mirrors, 'NNS', 'NOUN'),\n",
              " (across, 'IN', 'ADP'),\n",
              " (which, 'WDT', 'DET'),\n",
              " (,, ',', 'PUNCT'),\n",
              " (as, 'IN', 'SCONJ'),\n",
              " (across, 'IN', 'ADP'),\n",
              " (a, 'DT', 'DET'),\n",
              " (cinema, 'NN', 'NOUN'),\n",
              " (screen, 'NN', 'NOUN'),\n",
              " (,, ',', 'PUNCT'),\n",
              " (passed, 'VBD', 'VERB'),\n",
              " (a, 'DT', 'DET'),\n",
              " (flawlessly, 'RB', 'ADV'),\n",
              " (clear, 'JJ', 'ADJ'),\n",
              " (reflection, 'NN', 'NOUN'),\n",
              " (of, 'IN', 'ADP'),\n",
              " (boughs, 'NNS', 'NOUN'),\n",
              " (sliding, 'VBG', 'VERB'),\n",
              " (and, 'CC', 'CCONJ'),\n",
              " (swaying, 'VBG', 'VERB'),\n",
              " (not, 'RB', 'PART'),\n",
              " (arboreally, 'RB', 'ADV'),\n",
              " (,, ',', 'PUNCT'),\n",
              " (but, 'CC', 'CCONJ'),\n",
              " (with, 'IN', 'ADP'),\n",
              " (a, 'DT', 'DET'),\n",
              " (human, 'JJ', 'ADJ'),\n",
              " (vacillation, 'NN', 'NOUN'),\n",
              " (,, ',', 'PUNCT'),\n",
              " (produced, 'VBN', 'VERB'),\n",
              " (by, 'IN', 'ADP'),\n",
              " (the, 'DT', 'DET'),\n",
              " (nature, 'NN', 'NOUN'),\n",
              " (of, 'IN', 'ADP'),\n",
              " (those, 'DT', 'DET'),\n",
              " (who, 'WP', 'PRON'),\n",
              " (were, 'VBD', 'AUX'),\n",
              " (carrying, 'VBG', 'VERB'),\n",
              " (this, 'DT', 'DET'),\n",
              " (sky, 'NN', 'NOUN'),\n",
              " (,, ',', 'PUNCT'),\n",
              " (these, 'DT', 'DET'),\n",
              " (boughs, 'NNS', 'NOUN'),\n",
              " (,, ',', 'PUNCT'),\n",
              " (this, 'DT', 'DET'),\n",
              " (gliding, 'VBG', 'VERB'),\n",
              " (façade, 'NN', 'NOUN'),\n",
              " (., '.', 'PUNCT')]"
            ]
          },
          "metadata": {
            "tags": []
          },
          "execution_count": 4
        }
      ]
    },
    {
      "cell_type": "markdown",
      "metadata": {
        "id": "7u9106ehpQ1T"
      },
      "source": [
        "### Question 2: View as a Dataframe (1 point)\n",
        "\n",
        "1. Transpose the dataframe to view words as columns"
      ]
    },
    {
      "cell_type": "code",
      "metadata": {
        "id": "zr8LnXaHpTHo",
        "colab": {
          "base_uri": "https://localhost:8080/",
          "height": 419
        },
        "outputId": "48dd10b7-b4be-4597-b1ff-4c5c5859d375"
      },
      "source": [
        "df = pd.DataFrame(spacy_pos_tagged, \r\n",
        "             columns=['Word', 'POS tag', 'Tag type'])\r\n",
        "df"
      ],
      "execution_count": 38,
      "outputs": [
        {
          "output_type": "execute_result",
          "data": {
            "text/html": [
              "<div>\n",
              "<style scoped>\n",
              "    .dataframe tbody tr th:only-of-type {\n",
              "        vertical-align: middle;\n",
              "    }\n",
              "\n",
              "    .dataframe tbody tr th {\n",
              "        vertical-align: top;\n",
              "    }\n",
              "\n",
              "    .dataframe thead th {\n",
              "        text-align: right;\n",
              "    }\n",
              "</style>\n",
              "<table border=\"1\" class=\"dataframe\">\n",
              "  <thead>\n",
              "    <tr style=\"text-align: right;\">\n",
              "      <th></th>\n",
              "      <th>Word</th>\n",
              "      <th>POS tag</th>\n",
              "      <th>Tag type</th>\n",
              "    </tr>\n",
              "  </thead>\n",
              "  <tbody>\n",
              "    <tr>\n",
              "      <th>0</th>\n",
              "      <td>As</td>\n",
              "      <td>IN</td>\n",
              "      <td>SCONJ</td>\n",
              "    </tr>\n",
              "    <tr>\n",
              "      <th>1</th>\n",
              "      <td>he</td>\n",
              "      <td>PRP</td>\n",
              "      <td>PRON</td>\n",
              "    </tr>\n",
              "    <tr>\n",
              "      <th>2</th>\n",
              "      <td>crossed</td>\n",
              "      <td>VBD</td>\n",
              "      <td>VERB</td>\n",
              "    </tr>\n",
              "    <tr>\n",
              "      <th>3</th>\n",
              "      <td>toward</td>\n",
              "      <td>IN</td>\n",
              "      <td>ADP</td>\n",
              "    </tr>\n",
              "    <tr>\n",
              "      <th>4</th>\n",
              "      <td>the</td>\n",
              "      <td>DT</td>\n",
              "      <td>DET</td>\n",
              "    </tr>\n",
              "    <tr>\n",
              "      <th>...</th>\n",
              "      <td>...</td>\n",
              "      <td>...</td>\n",
              "      <td>...</td>\n",
              "    </tr>\n",
              "    <tr>\n",
              "      <th>102</th>\n",
              "      <td>,</td>\n",
              "      <td>,</td>\n",
              "      <td>PUNCT</td>\n",
              "    </tr>\n",
              "    <tr>\n",
              "      <th>103</th>\n",
              "      <td>this</td>\n",
              "      <td>DT</td>\n",
              "      <td>DET</td>\n",
              "    </tr>\n",
              "    <tr>\n",
              "      <th>104</th>\n",
              "      <td>gliding</td>\n",
              "      <td>VBG</td>\n",
              "      <td>VERB</td>\n",
              "    </tr>\n",
              "    <tr>\n",
              "      <th>105</th>\n",
              "      <td>façade</td>\n",
              "      <td>NN</td>\n",
              "      <td>NOUN</td>\n",
              "    </tr>\n",
              "    <tr>\n",
              "      <th>106</th>\n",
              "      <td>.</td>\n",
              "      <td>.</td>\n",
              "      <td>PUNCT</td>\n",
              "    </tr>\n",
              "  </tbody>\n",
              "</table>\n",
              "<p>107 rows × 3 columns</p>\n",
              "</div>"
            ],
            "text/plain": [
              "        Word POS tag Tag type\n",
              "0         As      IN    SCONJ\n",
              "1         he     PRP     PRON\n",
              "2    crossed     VBD     VERB\n",
              "3     toward      IN      ADP\n",
              "4        the      DT      DET\n",
              "..       ...     ...      ...\n",
              "102        ,       ,    PUNCT\n",
              "103     this      DT      DET\n",
              "104  gliding     VBG     VERB\n",
              "105   façade      NN     NOUN\n",
              "106        .       .    PUNCT\n",
              "\n",
              "[107 rows x 3 columns]"
            ]
          },
          "metadata": {
            "tags": []
          },
          "execution_count": 38
        }
      ]
    },
    {
      "cell_type": "markdown",
      "metadata": {
        "id": "5P_Rgdsy3VJF"
      },
      "source": [
        "### Question 3: Extract and display only nouns from the above dataframe (1 point)\n",
        "\n",
        "__Hint:__ There are functions in pandas which can let you search for substrings"
      ]
    },
    {
      "cell_type": "markdown",
      "metadata": {
        "id": "oPpQAPKF9x79"
      },
      "source": [
        ""
      ]
    },
    {
      "cell_type": "code",
      "metadata": {
        "id": "PktyurXD3MVk",
        "colab": {
          "base_uri": "https://localhost:8080/",
          "height": 731
        },
        "outputId": "677cb538-6e70-42d5-fea3-aacab45d690f"
      },
      "source": [
        "nouns = df.loc[df['Tag type'] == 'NOUN']\r\n",
        "nouns"
      ],
      "execution_count": 40,
      "outputs": [
        {
          "output_type": "execute_result",
          "data": {
            "text/html": [
              "<div>\n",
              "<style scoped>\n",
              "    .dataframe tbody tr th:only-of-type {\n",
              "        vertical-align: middle;\n",
              "    }\n",
              "\n",
              "    .dataframe tbody tr th {\n",
              "        vertical-align: top;\n",
              "    }\n",
              "\n",
              "    .dataframe thead th {\n",
              "        text-align: right;\n",
              "    }\n",
              "</style>\n",
              "<table border=\"1\" class=\"dataframe\">\n",
              "  <thead>\n",
              "    <tr style=\"text-align: right;\">\n",
              "      <th></th>\n",
              "      <th>Word</th>\n",
              "      <th>POS tag</th>\n",
              "      <th>Tag type</th>\n",
              "    </tr>\n",
              "  </thead>\n",
              "  <tbody>\n",
              "    <tr>\n",
              "      <th>5</th>\n",
              "      <td>pharmacy</td>\n",
              "      <td>NN</td>\n",
              "      <td>NOUN</td>\n",
              "    </tr>\n",
              "    <tr>\n",
              "      <th>8</th>\n",
              "      <td>corner</td>\n",
              "      <td>NN</td>\n",
              "      <td>NOUN</td>\n",
              "    </tr>\n",
              "    <tr>\n",
              "      <th>13</th>\n",
              "      <td>head</td>\n",
              "      <td>NN</td>\n",
              "      <td>NOUN</td>\n",
              "    </tr>\n",
              "    <tr>\n",
              "      <th>17</th>\n",
              "      <td>burst</td>\n",
              "      <td>NN</td>\n",
              "      <td>NOUN</td>\n",
              "    </tr>\n",
              "    <tr>\n",
              "      <th>19</th>\n",
              "      <td>light</td>\n",
              "      <td>NN</td>\n",
              "      <td>NOUN</td>\n",
              "    </tr>\n",
              "    <tr>\n",
              "      <th>25</th>\n",
              "      <td>temple</td>\n",
              "      <td>NN</td>\n",
              "      <td>NOUN</td>\n",
              "    </tr>\n",
              "    <tr>\n",
              "      <th>33</th>\n",
              "      <td>smile</td>\n",
              "      <td>NN</td>\n",
              "      <td>NOUN</td>\n",
              "    </tr>\n",
              "    <tr>\n",
              "      <th>39</th>\n",
              "      <td>rainbow</td>\n",
              "      <td>NN</td>\n",
              "      <td>NOUN</td>\n",
              "    </tr>\n",
              "    <tr>\n",
              "      <th>42</th>\n",
              "      <td>rose</td>\n",
              "      <td>NN</td>\n",
              "      <td>NOUN</td>\n",
              "    </tr>\n",
              "    <tr>\n",
              "      <th>47</th>\n",
              "      <td>parallelogram</td>\n",
              "      <td>NN</td>\n",
              "      <td>NOUN</td>\n",
              "    </tr>\n",
              "    <tr>\n",
              "      <th>49</th>\n",
              "      <td>sky</td>\n",
              "      <td>NN</td>\n",
              "      <td>NOUN</td>\n",
              "    </tr>\n",
              "    <tr>\n",
              "      <th>57</th>\n",
              "      <td>dresser</td>\n",
              "      <td>NN</td>\n",
              "      <td>NOUN</td>\n",
              "    </tr>\n",
              "    <tr>\n",
              "      <th>59</th>\n",
              "      <td>mirrors</td>\n",
              "      <td>NNS</td>\n",
              "      <td>NOUN</td>\n",
              "    </tr>\n",
              "    <tr>\n",
              "      <th>66</th>\n",
              "      <td>cinema</td>\n",
              "      <td>NN</td>\n",
              "      <td>NOUN</td>\n",
              "    </tr>\n",
              "    <tr>\n",
              "      <th>67</th>\n",
              "      <td>screen</td>\n",
              "      <td>NN</td>\n",
              "      <td>NOUN</td>\n",
              "    </tr>\n",
              "    <tr>\n",
              "      <th>73</th>\n",
              "      <td>reflection</td>\n",
              "      <td>NN</td>\n",
              "      <td>NOUN</td>\n",
              "    </tr>\n",
              "    <tr>\n",
              "      <th>75</th>\n",
              "      <td>boughs</td>\n",
              "      <td>NNS</td>\n",
              "      <td>NOUN</td>\n",
              "    </tr>\n",
              "    <tr>\n",
              "      <th>86</th>\n",
              "      <td>vacillation</td>\n",
              "      <td>NN</td>\n",
              "      <td>NOUN</td>\n",
              "    </tr>\n",
              "    <tr>\n",
              "      <th>91</th>\n",
              "      <td>nature</td>\n",
              "      <td>NN</td>\n",
              "      <td>NOUN</td>\n",
              "    </tr>\n",
              "    <tr>\n",
              "      <th>98</th>\n",
              "      <td>sky</td>\n",
              "      <td>NN</td>\n",
              "      <td>NOUN</td>\n",
              "    </tr>\n",
              "    <tr>\n",
              "      <th>101</th>\n",
              "      <td>boughs</td>\n",
              "      <td>NNS</td>\n",
              "      <td>NOUN</td>\n",
              "    </tr>\n",
              "    <tr>\n",
              "      <th>105</th>\n",
              "      <td>façade</td>\n",
              "      <td>NN</td>\n",
              "      <td>NOUN</td>\n",
              "    </tr>\n",
              "  </tbody>\n",
              "</table>\n",
              "</div>"
            ],
            "text/plain": [
              "              Word POS tag Tag type\n",
              "5         pharmacy      NN     NOUN\n",
              "8           corner      NN     NOUN\n",
              "13            head      NN     NOUN\n",
              "17           burst      NN     NOUN\n",
              "19           light      NN     NOUN\n",
              "25          temple      NN     NOUN\n",
              "33           smile      NN     NOUN\n",
              "39         rainbow      NN     NOUN\n",
              "42            rose      NN     NOUN\n",
              "47   parallelogram      NN     NOUN\n",
              "49             sky      NN     NOUN\n",
              "57         dresser      NN     NOUN\n",
              "59         mirrors     NNS     NOUN\n",
              "66          cinema      NN     NOUN\n",
              "67          screen      NN     NOUN\n",
              "73      reflection      NN     NOUN\n",
              "75          boughs     NNS     NOUN\n",
              "86     vacillation      NN     NOUN\n",
              "91          nature      NN     NOUN\n",
              "98             sky      NN     NOUN\n",
              "101         boughs     NNS     NOUN\n",
              "105         façade      NN     NOUN"
            ]
          },
          "metadata": {
            "tags": []
          },
          "execution_count": 40
        }
      ]
    },
    {
      "cell_type": "markdown",
      "metadata": {
        "id": "WoZrFXXQpa_c"
      },
      "source": [
        "## Named Entity Recognition"
      ]
    },
    {
      "cell_type": "markdown",
      "metadata": {
        "id": "4-buXMq_ptGJ"
      },
      "source": [
        "### Sample Text"
      ]
    },
    {
      "cell_type": "code",
      "metadata": {
        "id": "WvePT5fYpehv",
        "colab": {
          "base_uri": "https://localhost:8080/"
        },
        "outputId": "f1896ec8-c04a-4cfc-ea09-79fc514a1f7c"
      },
      "source": [
        "text = \"\"\"Tesla, Inc. (formerly Tesla Motors, Inc.) is an American electric \n",
        "vehicle and clean energy company based in Palo Alto, California. Tesla's \n",
        "current products include electric cars, battery energy storage from home to \n",
        "grid scale, solar panels and solar roof tiles, as well as other related products \n",
        "and services.\n",
        "\n",
        "Founded in July 2003 as Tesla Motors, the company's name is a tribute to \n",
        "inventor and electrical engineer Nikola Tesla. Elon Musk, who contributed most \n",
        "of the funding in the early days, has served as CEO since 2008. According to \n",
        "Musk, the purpose of Tesla is to help expedite the move to sustainable transport\n",
        " and energy, obtained through electric vehicles and solar power.\n",
        "\n",
        "Tesla ranked as the world's best-selling plug-in and battery electric passenger \n",
        "car manufacturer in 2019, with a market share of 17% of the plug-in segment and \n",
        "23% of the battery electric segment. Tesla global vehicle sales were 499,550 \n",
        "units in 2020, a 35.8% increase over the previous year. In 2020, the company \n",
        "surpassed the 1 million mark of electric cars produced. The Model 3 ranks as the \n",
        "world's all-time best-selling plug-in electric car, with more than 500,000 \n",
        "delivered. Through its subsidiary SolarCity, Tesla develops and is a major \n",
        "installer of solar photovoltaic systems in the United States. Tesla is also one \n",
        "of the largest global suppliers of battery energy storage systems, from \n",
        "home-scale to grid-scale. Tesla installed some of the largest battery storage \n",
        "plants in the world and supplied 1.65 GWh of battery storage in 2019.\n",
        "\n",
        "Tesla has been the subject of numerous lawsuits and controversies, arising from \n",
        "the statements and the conduct of CEO Elon Musk, allegations of whistleblower \n",
        "retaliation, alleged worker rights violations, and allegedly unresolved and \n",
        "dangerous technical problems with their products.\n",
        "\"\"\"\n",
        "print(text)"
      ],
      "execution_count": 41,
      "outputs": [
        {
          "output_type": "stream",
          "text": [
            "Tesla, Inc. (formerly Tesla Motors, Inc.) is an American electric \n",
            "vehicle and clean energy company based in Palo Alto, California. Tesla's \n",
            "current products include electric cars, battery energy storage from home to \n",
            "grid scale, solar panels and solar roof tiles, as well as other related products \n",
            "and services.\n",
            "\n",
            "Founded in July 2003 as Tesla Motors, the company's name is a tribute to \n",
            "inventor and electrical engineer Nikola Tesla. Elon Musk, who contributed most \n",
            "of the funding in the early days, has served as CEO since 2008. According to \n",
            "Musk, the purpose of Tesla is to help expedite the move to sustainable transport\n",
            " and energy, obtained through electric vehicles and solar power.\n",
            "\n",
            "Tesla ranked as the world's best-selling plug-in and battery electric passenger \n",
            "car manufacturer in 2019, with a market share of 17% of the plug-in segment and \n",
            "23% of the battery electric segment. Tesla global vehicle sales were 499,550 \n",
            "units in 2020, a 35.8% increase over the previous year. In 2020, the company \n",
            "surpassed the 1 million mark of electric cars produced. The Model 3 ranks as the \n",
            "world's all-time best-selling plug-in electric car, with more than 500,000 \n",
            "delivered. Through its subsidiary SolarCity, Tesla develops and is a major \n",
            "installer of solar photovoltaic systems in the United States. Tesla is also one \n",
            "of the largest global suppliers of battery energy storage systems, from \n",
            "home-scale to grid-scale. Tesla installed some of the largest battery storage \n",
            "plants in the world and supplied 1.65 GWh of battery storage in 2019.\n",
            "\n",
            "Tesla has been the subject of numerous lawsuits and controversies, arising from \n",
            "the statements and the conduct of CEO Elon Musk, allegations of whistleblower \n",
            "retaliation, alleged worker rights violations, and allegedly unresolved and \n",
            "dangerous technical problems with their products.\n",
            "\n"
          ],
          "name": "stdout"
        }
      ]
    },
    {
      "cell_type": "code",
      "metadata": {
        "id": "0re1g0qepxZ2"
      },
      "source": [
        "text = re.sub(r'\\n', '', text)"
      ],
      "execution_count": 42,
      "outputs": []
    },
    {
      "cell_type": "markdown",
      "metadata": {
        "id": "dpjbEhkyp1C7"
      },
      "source": [
        "### Question 4: Perform NER Tagging using Spacy (1 point)"
      ]
    },
    {
      "cell_type": "code",
      "metadata": {
        "id": "NzLyileZp2Tt",
        "colab": {
          "base_uri": "https://localhost:8080/"
        },
        "outputId": "2eee9968-c25d-4845-c56a-5a2408afb9ed"
      },
      "source": [
        "nlp = spacy.load('en')\r\n",
        "text_nlp = nlp(text)\r\n",
        "ner_tagged = [(word.text, word.ent_type_) for word in text_nlp]\r\n",
        "ner_tagged[:10]"
      ],
      "execution_count": 44,
      "outputs": [
        {
          "output_type": "execute_result",
          "data": {
            "text/plain": [
              "[('Tesla', 'ORG'),\n",
              " (',', 'ORG'),\n",
              " ('Inc.', 'ORG'),\n",
              " ('(', ''),\n",
              " ('formerly', ''),\n",
              " ('Tesla', 'ORG'),\n",
              " ('Motors', 'ORG'),\n",
              " (',', 'ORG'),\n",
              " ('Inc.', 'ORG'),\n",
              " (')', '')]"
            ]
          },
          "metadata": {
            "tags": []
          },
          "execution_count": 44
        }
      ]
    },
    {
      "cell_type": "markdown",
      "metadata": {
        "id": "yNxCvMpWp7NX"
      },
      "source": [
        "### Question 5: Visualize using Displacy (2 points)"
      ]
    },
    {
      "cell_type": "code",
      "metadata": {
        "id": "REOQ0PyQp89Y",
        "colab": {
          "base_uri": "https://localhost:8080/",
          "height": 457
        },
        "outputId": "627895e5-aef9-4361-e9e9-0ad973c47a55"
      },
      "source": [
        "displacy.render(text_nlp, style='ent', jupyter=True)"
      ],
      "execution_count": 45,
      "outputs": [
        {
          "output_type": "display_data",
          "data": {
            "text/html": [
              "<span class=\"tex2jax_ignore\"><div class=\"entities\" style=\"line-height: 2.5; direction: ltr\">\n",
              "<mark class=\"entity\" style=\"background: #7aecec; padding: 0.45em 0.6em; margin: 0 0.25em; line-height: 1; border-radius: 0.35em;\">\n",
              "    Tesla, Inc.\n",
              "    <span style=\"font-size: 0.8em; font-weight: bold; line-height: 1; border-radius: 0.35em; text-transform: uppercase; vertical-align: middle; margin-left: 0.5rem\">ORG</span>\n",
              "</mark>\n",
              " (formerly \n",
              "<mark class=\"entity\" style=\"background: #7aecec; padding: 0.45em 0.6em; margin: 0 0.25em; line-height: 1; border-radius: 0.35em;\">\n",
              "    Tesla Motors, Inc.\n",
              "    <span style=\"font-size: 0.8em; font-weight: bold; line-height: 1; border-radius: 0.35em; text-transform: uppercase; vertical-align: middle; margin-left: 0.5rem\">ORG</span>\n",
              "</mark>\n",
              ") is an \n",
              "<mark class=\"entity\" style=\"background: #c887fb; padding: 0.45em 0.6em; margin: 0 0.25em; line-height: 1; border-radius: 0.35em;\">\n",
              "    American\n",
              "    <span style=\"font-size: 0.8em; font-weight: bold; line-height: 1; border-radius: 0.35em; text-transform: uppercase; vertical-align: middle; margin-left: 0.5rem\">NORP</span>\n",
              "</mark>\n",
              " electric vehicle and clean energy company based in \n",
              "<mark class=\"entity\" style=\"background: #feca74; padding: 0.45em 0.6em; margin: 0 0.25em; line-height: 1; border-radius: 0.35em;\">\n",
              "    Palo Alto\n",
              "    <span style=\"font-size: 0.8em; font-weight: bold; line-height: 1; border-radius: 0.35em; text-transform: uppercase; vertical-align: middle; margin-left: 0.5rem\">GPE</span>\n",
              "</mark>\n",
              ", \n",
              "<mark class=\"entity\" style=\"background: #feca74; padding: 0.45em 0.6em; margin: 0 0.25em; line-height: 1; border-radius: 0.35em;\">\n",
              "    California\n",
              "    <span style=\"font-size: 0.8em; font-weight: bold; line-height: 1; border-radius: 0.35em; text-transform: uppercase; vertical-align: middle; margin-left: 0.5rem\">GPE</span>\n",
              "</mark>\n",
              ". \n",
              "<mark class=\"entity\" style=\"background: #7aecec; padding: 0.45em 0.6em; margin: 0 0.25em; line-height: 1; border-radius: 0.35em;\">\n",
              "    Tesla\n",
              "    <span style=\"font-size: 0.8em; font-weight: bold; line-height: 1; border-radius: 0.35em; text-transform: uppercase; vertical-align: middle; margin-left: 0.5rem\">ORG</span>\n",
              "</mark>\n",
              "'s current products include electric cars, battery energy storage from home to grid scale, solar panels and solar roof tiles, as well as other related products and services.Founded in \n",
              "<mark class=\"entity\" style=\"background: #bfe1d9; padding: 0.45em 0.6em; margin: 0 0.25em; line-height: 1; border-radius: 0.35em;\">\n",
              "    July 2003\n",
              "    <span style=\"font-size: 0.8em; font-weight: bold; line-height: 1; border-radius: 0.35em; text-transform: uppercase; vertical-align: middle; margin-left: 0.5rem\">DATE</span>\n",
              "</mark>\n",
              " as \n",
              "<mark class=\"entity\" style=\"background: #7aecec; padding: 0.45em 0.6em; margin: 0 0.25em; line-height: 1; border-radius: 0.35em;\">\n",
              "    Tesla Motors\n",
              "    <span style=\"font-size: 0.8em; font-weight: bold; line-height: 1; border-radius: 0.35em; text-transform: uppercase; vertical-align: middle; margin-left: 0.5rem\">ORG</span>\n",
              "</mark>\n",
              ", the company's name is a tribute to inventor and electrical engineer \n",
              "<mark class=\"entity\" style=\"background: #7aecec; padding: 0.45em 0.6em; margin: 0 0.25em; line-height: 1; border-radius: 0.35em;\">\n",
              "    Nikola Tesla\n",
              "    <span style=\"font-size: 0.8em; font-weight: bold; line-height: 1; border-radius: 0.35em; text-transform: uppercase; vertical-align: middle; margin-left: 0.5rem\">ORG</span>\n",
              "</mark>\n",
              ". \n",
              "<mark class=\"entity\" style=\"background: #aa9cfc; padding: 0.45em 0.6em; margin: 0 0.25em; line-height: 1; border-radius: 0.35em;\">\n",
              "    Elon Musk\n",
              "    <span style=\"font-size: 0.8em; font-weight: bold; line-height: 1; border-radius: 0.35em; text-transform: uppercase; vertical-align: middle; margin-left: 0.5rem\">PERSON</span>\n",
              "</mark>\n",
              ", who contributed most of the funding in \n",
              "<mark class=\"entity\" style=\"background: #bfe1d9; padding: 0.45em 0.6em; margin: 0 0.25em; line-height: 1; border-radius: 0.35em;\">\n",
              "    the early days\n",
              "    <span style=\"font-size: 0.8em; font-weight: bold; line-height: 1; border-radius: 0.35em; text-transform: uppercase; vertical-align: middle; margin-left: 0.5rem\">DATE</span>\n",
              "</mark>\n",
              ", has served as CEO since \n",
              "<mark class=\"entity\" style=\"background: #bfe1d9; padding: 0.45em 0.6em; margin: 0 0.25em; line-height: 1; border-radius: 0.35em;\">\n",
              "    2008\n",
              "    <span style=\"font-size: 0.8em; font-weight: bold; line-height: 1; border-radius: 0.35em; text-transform: uppercase; vertical-align: middle; margin-left: 0.5rem\">DATE</span>\n",
              "</mark>\n",
              ". According to \n",
              "<mark class=\"entity\" style=\"background: #7aecec; padding: 0.45em 0.6em; margin: 0 0.25em; line-height: 1; border-radius: 0.35em;\">\n",
              "    Musk\n",
              "    <span style=\"font-size: 0.8em; font-weight: bold; line-height: 1; border-radius: 0.35em; text-transform: uppercase; vertical-align: middle; margin-left: 0.5rem\">ORG</span>\n",
              "</mark>\n",
              ", the purpose of \n",
              "<mark class=\"entity\" style=\"background: #ff8197; padding: 0.45em 0.6em; margin: 0 0.25em; line-height: 1; border-radius: 0.35em;\">\n",
              "    Tesla\n",
              "    <span style=\"font-size: 0.8em; font-weight: bold; line-height: 1; border-radius: 0.35em; text-transform: uppercase; vertical-align: middle; margin-left: 0.5rem\">LAW</span>\n",
              "</mark>\n",
              " is to help expedite the move to sustainable transport and energy, obtained through electric vehicles and solar power.\n",
              "<mark class=\"entity\" style=\"background: #ff8197; padding: 0.45em 0.6em; margin: 0 0.25em; line-height: 1; border-radius: 0.35em;\">\n",
              "    Tesla\n",
              "    <span style=\"font-size: 0.8em; font-weight: bold; line-height: 1; border-radius: 0.35em; text-transform: uppercase; vertical-align: middle; margin-left: 0.5rem\">LAW</span>\n",
              "</mark>\n",
              " ranked as the world's best-selling plug-in and battery electric passenger car manufacturer in \n",
              "<mark class=\"entity\" style=\"background: #bfe1d9; padding: 0.45em 0.6em; margin: 0 0.25em; line-height: 1; border-radius: 0.35em;\">\n",
              "    2019\n",
              "    <span style=\"font-size: 0.8em; font-weight: bold; line-height: 1; border-radius: 0.35em; text-transform: uppercase; vertical-align: middle; margin-left: 0.5rem\">DATE</span>\n",
              "</mark>\n",
              ", with a market share of \n",
              "<mark class=\"entity\" style=\"background: #e4e7d2; padding: 0.45em 0.6em; margin: 0 0.25em; line-height: 1; border-radius: 0.35em;\">\n",
              "    17%\n",
              "    <span style=\"font-size: 0.8em; font-weight: bold; line-height: 1; border-radius: 0.35em; text-transform: uppercase; vertical-align: middle; margin-left: 0.5rem\">PERCENT</span>\n",
              "</mark>\n",
              " of the plug-in segment and \n",
              "<mark class=\"entity\" style=\"background: #e4e7d2; padding: 0.45em 0.6em; margin: 0 0.25em; line-height: 1; border-radius: 0.35em;\">\n",
              "    23%\n",
              "    <span style=\"font-size: 0.8em; font-weight: bold; line-height: 1; border-radius: 0.35em; text-transform: uppercase; vertical-align: middle; margin-left: 0.5rem\">PERCENT</span>\n",
              "</mark>\n",
              " of the battery electric segment. \n",
              "<mark class=\"entity\" style=\"background: #e4e7d2; padding: 0.45em 0.6em; margin: 0 0.25em; line-height: 1; border-radius: 0.35em;\">\n",
              "    Tesla\n",
              "    <span style=\"font-size: 0.8em; font-weight: bold; line-height: 1; border-radius: 0.35em; text-transform: uppercase; vertical-align: middle; margin-left: 0.5rem\">ORDINAL</span>\n",
              "</mark>\n",
              " global vehicle sales were \n",
              "<mark class=\"entity\" style=\"background: #e4e7d2; padding: 0.45em 0.6em; margin: 0 0.25em; line-height: 1; border-radius: 0.35em;\">\n",
              "    499,550\n",
              "    <span style=\"font-size: 0.8em; font-weight: bold; line-height: 1; border-radius: 0.35em; text-transform: uppercase; vertical-align: middle; margin-left: 0.5rem\">CARDINAL</span>\n",
              "</mark>\n",
              " units in \n",
              "<mark class=\"entity\" style=\"background: #bfe1d9; padding: 0.45em 0.6em; margin: 0 0.25em; line-height: 1; border-radius: 0.35em;\">\n",
              "    2020\n",
              "    <span style=\"font-size: 0.8em; font-weight: bold; line-height: 1; border-radius: 0.35em; text-transform: uppercase; vertical-align: middle; margin-left: 0.5rem\">DATE</span>\n",
              "</mark>\n",
              ", a \n",
              "<mark class=\"entity\" style=\"background: #e4e7d2; padding: 0.45em 0.6em; margin: 0 0.25em; line-height: 1; border-radius: 0.35em;\">\n",
              "    35.8%\n",
              "    <span style=\"font-size: 0.8em; font-weight: bold; line-height: 1; border-radius: 0.35em; text-transform: uppercase; vertical-align: middle; margin-left: 0.5rem\">PERCENT</span>\n",
              "</mark>\n",
              " increase over \n",
              "<mark class=\"entity\" style=\"background: #bfe1d9; padding: 0.45em 0.6em; margin: 0 0.25em; line-height: 1; border-radius: 0.35em;\">\n",
              "    the previous year\n",
              "    <span style=\"font-size: 0.8em; font-weight: bold; line-height: 1; border-radius: 0.35em; text-transform: uppercase; vertical-align: middle; margin-left: 0.5rem\">DATE</span>\n",
              "</mark>\n",
              ". In \n",
              "<mark class=\"entity\" style=\"background: #bfe1d9; padding: 0.45em 0.6em; margin: 0 0.25em; line-height: 1; border-radius: 0.35em;\">\n",
              "    2020\n",
              "    <span style=\"font-size: 0.8em; font-weight: bold; line-height: 1; border-radius: 0.35em; text-transform: uppercase; vertical-align: middle; margin-left: 0.5rem\">DATE</span>\n",
              "</mark>\n",
              ", the company surpassed the \n",
              "<mark class=\"entity\" style=\"background: #e4e7d2; padding: 0.45em 0.6em; margin: 0 0.25em; line-height: 1; border-radius: 0.35em;\">\n",
              "    1 million mark\n",
              "    <span style=\"font-size: 0.8em; font-weight: bold; line-height: 1; border-radius: 0.35em; text-transform: uppercase; vertical-align: middle; margin-left: 0.5rem\">MONEY</span>\n",
              "</mark>\n",
              " of electric cars produced. The \n",
              "<mark class=\"entity\" style=\"background: #bfeeb7; padding: 0.45em 0.6em; margin: 0 0.25em; line-height: 1; border-radius: 0.35em;\">\n",
              "    Model 3\n",
              "    <span style=\"font-size: 0.8em; font-weight: bold; line-height: 1; border-radius: 0.35em; text-transform: uppercase; vertical-align: middle; margin-left: 0.5rem\">PRODUCT</span>\n",
              "</mark>\n",
              " ranks as the world's all-time best-selling plug-in electric car, with \n",
              "<mark class=\"entity\" style=\"background: #e4e7d2; padding: 0.45em 0.6em; margin: 0 0.25em; line-height: 1; border-radius: 0.35em;\">\n",
              "    more than 500,000\n",
              "    <span style=\"font-size: 0.8em; font-weight: bold; line-height: 1; border-radius: 0.35em; text-transform: uppercase; vertical-align: middle; margin-left: 0.5rem\">CARDINAL</span>\n",
              "</mark>\n",
              " delivered. Through its subsidiary \n",
              "<mark class=\"entity\" style=\"background: #bfeeb7; padding: 0.45em 0.6em; margin: 0 0.25em; line-height: 1; border-radius: 0.35em;\">\n",
              "    SolarCity\n",
              "    <span style=\"font-size: 0.8em; font-weight: bold; line-height: 1; border-radius: 0.35em; text-transform: uppercase; vertical-align: middle; margin-left: 0.5rem\">PRODUCT</span>\n",
              "</mark>\n",
              ", \n",
              "<mark class=\"entity\" style=\"background: #bfeeb7; padding: 0.45em 0.6em; margin: 0 0.25em; line-height: 1; border-radius: 0.35em;\">\n",
              "    Tesla\n",
              "    <span style=\"font-size: 0.8em; font-weight: bold; line-height: 1; border-radius: 0.35em; text-transform: uppercase; vertical-align: middle; margin-left: 0.5rem\">PRODUCT</span>\n",
              "</mark>\n",
              " develops and is a major installer of solar photovoltaic systems in \n",
              "<mark class=\"entity\" style=\"background: #feca74; padding: 0.45em 0.6em; margin: 0 0.25em; line-height: 1; border-radius: 0.35em;\">\n",
              "    the United States\n",
              "    <span style=\"font-size: 0.8em; font-weight: bold; line-height: 1; border-radius: 0.35em; text-transform: uppercase; vertical-align: middle; margin-left: 0.5rem\">GPE</span>\n",
              "</mark>\n",
              ". \n",
              "<mark class=\"entity\" style=\"background: #7aecec; padding: 0.45em 0.6em; margin: 0 0.25em; line-height: 1; border-radius: 0.35em;\">\n",
              "    Tesla\n",
              "    <span style=\"font-size: 0.8em; font-weight: bold; line-height: 1; border-radius: 0.35em; text-transform: uppercase; vertical-align: middle; margin-left: 0.5rem\">ORG</span>\n",
              "</mark>\n",
              " is also \n",
              "<mark class=\"entity\" style=\"background: #e4e7d2; padding: 0.45em 0.6em; margin: 0 0.25em; line-height: 1; border-radius: 0.35em;\">\n",
              "    one\n",
              "    <span style=\"font-size: 0.8em; font-weight: bold; line-height: 1; border-radius: 0.35em; text-transform: uppercase; vertical-align: middle; margin-left: 0.5rem\">CARDINAL</span>\n",
              "</mark>\n",
              " of the largest global suppliers of battery energy storage systems, from home-scale to grid-scale. Tesla installed some of the largest battery storage plants in the world and supplied \n",
              "<mark class=\"entity\" style=\"background: #e4e7d2; padding: 0.45em 0.6em; margin: 0 0.25em; line-height: 1; border-radius: 0.35em;\">\n",
              "    1.65\n",
              "    <span style=\"font-size: 0.8em; font-weight: bold; line-height: 1; border-radius: 0.35em; text-transform: uppercase; vertical-align: middle; margin-left: 0.5rem\">CARDINAL</span>\n",
              "</mark>\n",
              " GWh of battery storage in \n",
              "<mark class=\"entity\" style=\"background: #e4e7d2; padding: 0.45em 0.6em; margin: 0 0.25em; line-height: 1; border-radius: 0.35em;\">\n",
              "    2019.Tesla\n",
              "    <span style=\"font-size: 0.8em; font-weight: bold; line-height: 1; border-radius: 0.35em; text-transform: uppercase; vertical-align: middle; margin-left: 0.5rem\">CARDINAL</span>\n",
              "</mark>\n",
              " has been the subject of numerous lawsuits and controversies, arising from the statements and the conduct of CEO \n",
              "<mark class=\"entity\" style=\"background: #aa9cfc; padding: 0.45em 0.6em; margin: 0 0.25em; line-height: 1; border-radius: 0.35em;\">\n",
              "    Elon Musk\n",
              "    <span style=\"font-size: 0.8em; font-weight: bold; line-height: 1; border-radius: 0.35em; text-transform: uppercase; vertical-align: middle; margin-left: 0.5rem\">PERSON</span>\n",
              "</mark>\n",
              ", allegations of whistleblower retaliation, alleged worker rights violations, and allegedly unresolved and dangerous technical problems with their products.</div></span>"
            ],
            "text/plain": [
              "<IPython.core.display.HTML object>"
            ]
          },
          "metadata": {
            "tags": []
          }
        }
      ]
    },
    {
      "cell_type": "markdown",
      "metadata": {
        "id": "o4ACJbNi4m2H"
      },
      "source": [
        "### Question 6: Prepare and show list of named entities (4 points)"
      ]
    },
    {
      "cell_type": "code",
      "metadata": {
        "id": "qeBqAhp20tjj",
        "colab": {
          "base_uri": "https://localhost:8080/"
        },
        "outputId": "2b1e2dba-2f4e-46b9-89bc-7e47647d8fa0"
      },
      "source": [
        "named_entities = []\r\n",
        "temp_entity_name = ''\r\n",
        "temp_named_entity = None\r\n",
        "for term, tag in ner_tagged:\r\n",
        "    if tag:\r\n",
        "        temp_entity_name = ' '.join([temp_entity_name, term]).strip()\r\n",
        "        temp_named_entity = (temp_entity_name, tag)\r\n",
        "    else:\r\n",
        "        if temp_named_entity:\r\n",
        "            named_entities.append(temp_named_entity)\r\n",
        "            temp_entity_name = ''\r\n",
        "            temp_named_entity = None\r\n",
        "named_entities[:10]"
      ],
      "execution_count": 47,
      "outputs": [
        {
          "output_type": "execute_result",
          "data": {
            "text/plain": [
              "[('Tesla , Inc.', 'ORG'),\n",
              " ('Tesla Motors , Inc.', 'ORG'),\n",
              " ('American', 'NORP'),\n",
              " ('Palo Alto', 'GPE'),\n",
              " ('California', 'GPE'),\n",
              " ('Tesla', 'ORG'),\n",
              " ('July 2003', 'DATE'),\n",
              " ('Tesla Motors', 'ORG'),\n",
              " ('Nikola Tesla', 'ORG'),\n",
              " ('Elon Musk', 'PERSON')]"
            ]
          },
          "metadata": {
            "tags": []
          },
          "execution_count": 47
        }
      ]
    }
  ]
}